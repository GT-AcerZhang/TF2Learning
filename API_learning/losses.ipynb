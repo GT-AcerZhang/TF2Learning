{
 "cells": [
  {
   "cell_type": "markdown",
   "metadata": {},
   "source": [
    "### 不同类型的损失函数接口分别怎么用? \n",
    "下面三个接口都包含有损失函数：tf.keras.losses, tf.losses, tf.nn，它们的区别在于：    \n",
    "+ （1）y_pred是位于softmax之前还是之后（即from_logits是否为True）：通过参数判断  \n",
    "+ （2）y_true是标签值还是one_hot编码后的值：通过是否有sparse判断\n",
    "+ （3）在本batch上计算的loss是平均值还是大小为batch size的向量：通过大小写判断\n",
    "+ **注意：numpy或tensorflow在计算交叉熵cross entropy时，对数运算的底为自然数e=2.71828**  "
   ]
  },
  {
   "cell_type": "code",
   "execution_count": 1,
   "metadata": {},
   "outputs": [],
   "source": [
    "import tensorflow as tf\n",
    "import numpy as np\n",
    "import os \n",
    "\n",
    "os.environ[\"CUDA_VISIBLE_DEVICES\"] = '1'"
   ]
  },
  {
   "cell_type": "markdown",
   "metadata": {},
   "source": [
    "+ **1.tf.keras.losses.BinaryCrossentropy是一个类，用于二分类任务中**  \n",
    "+ **同名为：tf.losses.BinaryCrossentropy**  \n",
    "-param:y_true：样本的标签     \n",
    "-param:y_pred：经过softmax层后的输出，默认from_logits = False  \n",
    "return:返回的是batch size个样本的平均loss    "
   ]
  },
  {
   "cell_type": "code",
   "execution_count": 2,
   "metadata": {},
   "outputs": [
    {
     "name": "stdout",
     "output_type": "stream",
     "text": [
      "Loss:  11.568711280822754\n",
      "手动计算的值为： 12.088571713218741\n"
     ]
    }
   ],
   "source": [
    "# keras中二分类交叉熵损失函数的形式为loss = y_true * log(y_pred + EPSILON) + (1 - y_true) * log(1 - y_pred + EPSILON)，其中EPSILON=1e-7 \n",
    "EPSILON = 1e-7\n",
    "bce = tf.keras.losses.BinaryCrossentropy()         # 默认from_logits = False\n",
    "y_true = np.array([0, 0, 1, 1])                    # 数据类型dtype也可以是浮点型\n",
    "y_pred = np.array([1., 1., 1., 0.])\n",
    "loss = bce(y_true, y_pred)\n",
    "print('Loss: ', loss.numpy())\n",
    "\n",
    "# 公式参考自：https://github.com/tensorflow/tensorflow/blob/1cf0898dd4331baf93fe77205550f2c2e6c90ee5/tensorflow/python/keras/backend.py\n",
    "arr = y_true * np.log(y_pred + EPSILON) + (1 - y_true) * np.log(1 - y_pred + EPSILON)\n",
    "loss2 = -np.mean(arr)\n",
    "print(\"手动计算的值为：\", loss2)"
   ]
  },
  {
   "cell_type": "markdown",
   "metadata": {},
   "source": [
    "+ **2.tf.keras.losses.binary_crossentropy是一个函数，用于多分类任务中**   \n",
    "+ **同名为：tf.keras.metrics.binary_crossentropy, tf.losses.binary_crossentropy, tf.metrics.binary_crossentropy**  \n",
    "-param:y_true：样本的标签,如：[0, 1, 2]     \n",
    "-param:y_pred：from_logits = True的输出 [[.9, .05, .05], [.05, .89, .06], [.05, .01, .94]]  \n",
    "return:返回的是batch size个样本的平均loss  "
   ]
  },
  {
   "cell_type": "code",
   "execution_count": 3,
   "metadata": {},
   "outputs": [
    {
     "name": "stdout",
     "output_type": "stream",
     "text": [
      "Loss:  11.56871135293037\n",
      "手动计算的值为： 12.088571713218741\n"
     ]
    }
   ],
   "source": [
    "# keras中二分类交叉熵损失函数的形式为loss = y_true * log(y_pred + EPSILON) + (1 - y_true) * log(1 - y_pred + EPSILON)，其中EPSILON=1e-7 \n",
    "EPSILON = 1e-7        \n",
    "y_true = np.array([0., 0., 1., 1.])\n",
    "y_pred = np.array([1., 1., 1., 0.])\n",
    "loss = tf.keras.losses.binary_crossentropy(y_true, y_pred)    # 默认from_logits = False\n",
    "print('Loss: ', loss.numpy())\n",
    "\n",
    "# 公式参考自：https://github.com/tensorflow/tensorflow/blob/1cf0898dd4331baf93fe77205550f2c2e6c90ee5/tensorflow/python/keras/backend.py\n",
    "arr = y_true * np.log(y_pred + EPSILON) + (1 - y_true) * np.log(1 - y_pred + EPSILON)\n",
    "loss2 = -np.mean(arr)\n",
    "print(\"手动计算的值为：\", loss2)"
   ]
  },
  {
   "cell_type": "markdown",
   "metadata": {},
   "source": [
    "+ **3. tf.keras.losses.CategoricalCrossentropy是一个类，用于多分类任务中**\n",
    "+ **同名为：tf.losses.CategoricalCrossentropy**   \n",
    "-param:y_true：one_hot编码后的标签  \n",
    "-param:y_pred：经过softmax层后的输出，默认from_logits = False   \n",
    "-return:返回的是batch size个样本的平均交叉熵loss，是一个标量  "
   ]
  },
  {
   "cell_type": "code",
   "execution_count": 4,
   "metadata": {},
   "outputs": [
    {
     "name": "stdout",
     "output_type": "stream",
     "text": [
      "Loss1:  0.09458993\n",
      "手动计算的值为1： 0.09458991187728844\n",
      "Loss2:  0.61106974\n",
      "手动计算的值为2： 0.6110697851390151\n"
     ]
    }
   ],
   "source": [
    "# from_logits = False,构造对象时默认的方式。（即要求y_pred是经过softmax层后的值）\n",
    "cce = tf.keras.losses.CategoricalCrossentropy()\n",
    "y_true = [[1., 0., 0.], [0., 1., 0.], [0., 0., 1.]]\n",
    "y_pred = [[.9, .05, .05], [.05, .89, .06], [.05, .01, .94]]\n",
    "loss = cce(y_true, y_pred)\n",
    "print('Loss1: ', loss.numpy())\n",
    "print(\"手动计算的值为1：\",np.mean(-np.log([0.9,0.89,0.94])))\n",
    "\n",
    "\n",
    "# from_logits = True，官网说这种数值更稳定。（即要求y_pred是softmax层之前的值）\n",
    "cce = tf.keras.losses.CategoricalCrossentropy(from_logits=True)\n",
    "y_true = [[1., 0., 0.], [0., 1., 0.], [0., 0., 1.]]\n",
    "y_pred = [[.9, .05, .05], [.05, .89, .06], [.05, .01, .94]]\n",
    "loss = cce(y_true, y_pred)\n",
    "print('Loss2: ', loss.numpy())\n",
    "\n",
    "arr = np.array([[.9, .05, .05], [.05, .89, .06], [.05, .01, .94]])\n",
    "arr2 = np.exp(arr) / np.sum(np.exp(arr), axis=1)\n",
    "arr3 = np.max(arr2, axis = 1)\n",
    "print(\"手动计算的值为2：\",np.mean(-np.log(arr3)))"
   ]
  },
  {
   "cell_type": "markdown",
   "metadata": {},
   "source": [
    "+ **4.tf.keras.losses.categorical_crossentropy是一个函数**  \n",
    "+ **同名为：tf.keras.metrics.categorical_crossentropy, tf.losses.categorical_crossentropy,tf.metrics.categorical_crossentropy**  \n",
    "-param:y_true：one_hot编码后的标签  \n",
    "-param:y_pred：经过softmax层后的输出，默认from_logits = False   \n",
    "-return:返回的是batch size个样本的交叉熵loss向量，其长度等于batch size  "
   ]
  },
  {
   "cell_type": "code",
   "execution_count": 5,
   "metadata": {},
   "outputs": [
    {
     "name": "stdout",
     "output_type": "stream",
     "text": [
      "Loss:  [0.10536055 0.11653383 0.06187541]\n",
      "Loss的平均值:  0.09458993\n",
      "手动计算的值为： 0.09458991187728844\n"
     ]
    }
   ],
   "source": [
    "# from_logits = False,构造对象时默认的方式\n",
    "y_true = [[1., 0., 0.], [0., 1., 0.], [0., 0., 1.]]\n",
    "y_pred = [[.9, .05, .05], [.05, .89, .06], [.05, .01, .94]]\n",
    "loss = tf.keras.losses.categorical_crossentropy(y_true, y_pred)\n",
    "print('Loss: ', loss.numpy())\n",
    "print('Loss的平均值: ', np.mean(loss.numpy()))\n",
    "print(\"手动计算的值为：\",np.mean(-np.log([0.9,0.89,0.94])))"
   ]
  },
  {
   "cell_type": "markdown",
   "metadata": {},
   "source": [
    "+ **5.tf.keras.losses.SparseCategoricalCrossentropy是一个类，用于多分类任务中** \n",
    "+ **同名为：tf.losses.SparseCategoricalCrossentropy**  \n",
    "-param:y_true：样本的标签,如：[0, 1, 2]     \n",
    "-param:y_pred：from_logits = False的输出 [[.9, .05, .05], [.05, .89, .06], [.05, .01, .94]]  \n",
    "return:返回的是batch size个样本的平均loss  "
   ]
  },
  {
   "cell_type": "code",
   "execution_count": 6,
   "metadata": {},
   "outputs": [
    {
     "name": "stdout",
     "output_type": "stream",
     "text": [
      "Loss:  0.09458992\n",
      "手动计算的值为： 0.09458991187728844\n"
     ]
    }
   ],
   "source": [
    "# y_true默认为数字标签，而不是one_hot编码\n",
    "# 需要注意：y_true和y_pred必须是tf.Tensor类型的数据，否则会报错没有op属性\n",
    "cce = tf.keras.losses.SparseCategoricalCrossentropy()\n",
    "y_true = tf.constant([0., 1., 2.])\n",
    "y_pred = tf.constant([[.9, .05, .05], [.05, .89, .06], [.05, .01, .94]])\n",
    "loss = cce(y_true, y_pred)\n",
    "print('Loss: ', loss.numpy())\n",
    "\n",
    "print(\"手动计算的值为：\",np.mean(-np.log([0.9,0.89,0.94])))"
   ]
  },
  {
   "cell_type": "markdown",
   "metadata": {},
   "source": [
    "+ **6.tf.keras.losses.sparse_categorical_crossentropy是一个函数，用于多分类任务中** \n",
    "+ **同名为：tf.keras.metrics.sparse_categorical_crossentropy, tf.losses.sparse_categorical_crossentropy, tf.metrics.sparse_categorical_crossentropy**  \n",
    "-param:y_true：样本的标签,如：[0, 1, 2]     \n",
    "-param:y_pred：from_logits = False的输出 [[.9, .05, .05], [.05, .89, .06], [.05, .01, .94]]  \n",
    "return:返回的是batch size个样本的平均loss  "
   ]
  },
  {
   "cell_type": "code",
   "execution_count": 7,
   "metadata": {},
   "outputs": [
    {
     "name": "stdout",
     "output_type": "stream",
     "text": [
      "Loss:  [0.10536056 0.11653379 0.0618754 ]\n",
      "Loss的平均值:  0.09458992\n",
      "手动计算的值为： 0.09458991187728844\n"
     ]
    }
   ],
   "source": [
    "# y_true默认为数字标签，而不是one_hot编码\n",
    "# 需要注意：y_true和y_pred必须是tf.Tensor类型的数据，否则会报错没有op属性\n",
    "y_true = tf.constant([0., 1., 2.])\n",
    "y_pred = tf.constant([[.9, .05, .05], [.05, .89, .06], [.05, .01, .94]])\n",
    "loss = tf.keras.losses.sparse_categorical_crossentropy(y_true, y_pred)\n",
    "print('Loss: ', loss.numpy())\n",
    "print('Loss的平均值: ', np.mean(loss.numpy()))\n",
    "\n",
    "print(\"手动计算的值为：\",np.mean(-np.log([0.9,0.89,0.94])))"
   ]
  },
  {
   "cell_type": "code",
   "execution_count": null,
   "metadata": {},
   "outputs": [],
   "source": []
  }
 ],
 "metadata": {
  "kernelspec": {
   "display_name": "Python 3",
   "language": "python",
   "name": "python3"
  },
  "language_info": {
   "codemirror_mode": {
    "name": "ipython",
    "version": 3
   },
   "file_extension": ".py",
   "mimetype": "text/x-python",
   "name": "python",
   "nbconvert_exporter": "python",
   "pygments_lexer": "ipython3",
   "version": "3.6.8"
  }
 },
 "nbformat": 4,
 "nbformat_minor": 2
}
