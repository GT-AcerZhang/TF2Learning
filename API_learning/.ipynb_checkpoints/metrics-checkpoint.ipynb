{
 "cells": [
  {
   "cell_type": "markdown",
   "metadata": {},
   "source": [
    "### 不同类型的metrics接口分别怎么用?   \n",
    "在tf.keras.metrics和tf.metrics中都有计算metrics的接口函数"
   ]
  },
  {
   "cell_type": "code",
   "execution_count": 1,
   "metadata": {},
   "outputs": [],
   "source": [
    "import tensorflow as tf\n",
    "import numpy as np\n",
    "import os \n",
    "\n",
    "os.environ[\"CUDA_VISIBLE_DEVICES\"] = '1'"
   ]
  },
  {
   "cell_type": "markdown",
   "metadata": {},
   "source": [
    "+ **1. tf.keras.metrics.Accuracy是一个类，用与计算多分类任务的准确率**  \n",
    "同名为：tf.metrics.Accuracy  \n",
    "-param:y_true：样本的标签  \n",
    "-param:y_pred：经过softmax层后，最大值的索引  "
   ]
  },
  {
   "cell_type": "code",
   "execution_count": 2,
   "metadata": {},
   "outputs": [
    {
     "name": "stdout",
     "output_type": "stream",
     "text": [
      "<class 'tensorflow.python.framework.ops.EagerTensor'>\n",
      "result1:  0.75\n",
      "result2:  0.625\n",
      "result3:  0.0\n"
     ]
    }
   ],
   "source": [
    "# 构造一个度量准确率的对象\n",
    "m = tf.keras.metrics.Accuracy()\n",
    "\n",
    "# 第一个batch的计算，用.update_state()计算，用.result()取得结果，用.numpy()展示结果\n",
    "y_true = [1, 2, 3, 4]\n",
    "y_pred = [0, 2, 3, 4]\n",
    "m.update_state(y_true, y_pred)                # .update_state()Accumulates metric statistics.返回的是op\n",
    "print(type(m.result()))                       # .result()Computes and returns the metric value tensor\n",
    "print('result1: ', m.result().numpy())        # .numpy()返回的是\n",
    "\n",
    "# 第2个batch的计算，用.update_state()更新，会保留上一次计算的结果，计算的是累积准确率\n",
    "y_true = [1, 2, 3, 4]\n",
    "y_pred = [0, 0, 3, 4]\n",
    "m.update_state(y_true, y_pred)\n",
    "print('result2: ', m.result().numpy())\n",
    "\n",
    "# 第3个batch的计算，用.reset_state()重置，得到结果仅是本batch的准确率\n",
    "m.reset_states()                             # .reset_states()返回的是\n",
    "y_true = [1, 2, 3, 4]\n",
    "y_pred = [0, 0, 0, 0]\n",
    "m.update_state(y_true, y_pred)\n",
    "print('result3: ', m.result().numpy())"
   ]
  },
  {
   "cell_type": "markdown",
   "metadata": {},
   "source": [
    "+ **2. tf.keras.metrics.BinaryAccuracy是一个类，用于计算二分类任务的准确率**  \n",
    "同名为：tf.metrics.BinaryAccuracy    \n",
    "-param:y_true：样本的标签    \n",
    "-param:y_pred：经过softmax层后，概率最大值 "
   ]
  },
  {
   "cell_type": "code",
   "execution_count": 3,
   "metadata": {},
   "outputs": [
    {
     "name": "stdout",
     "output_type": "stream",
     "text": [
      "result:  0.75\n"
     ]
    }
   ],
   "source": [
    "# 构造一个度量准确率的对象\n",
    "m = tf.keras.metrics.BinaryAccuracy(threshold=0.5)\n",
    "\n",
    "# 第一个batch的计算，用.update_state()计算，用.result()取得结果，用.numpy()展示结果\n",
    "y_true = [1, 1, 0, 0]\n",
    "y_pred = [0.98, 1, 0, 0.6]                 # 用threshold的值将其处理为0或1，然后和y_true做匹配\n",
    "m.update_state(y_true, y_pred)               \n",
    "print('result: ', m.result().numpy())        "
   ]
  },
  {
   "cell_type": "markdown",
   "metadata": {},
   "source": [
    "+ **3. tf.keras.metrics.binary_accuracy是一个函数，用于计算二分类任务的准确率**  \n",
    "同名为：tf.metrics.binary_accuracy  \n",
    "-param:y_true：样本的标签  \n",
    "-param:y_pred：经过softmax层后，概率最大值 "
   ]
  },
  {
   "cell_type": "code",
   "execution_count": 4,
   "metadata": {},
   "outputs": [
    {
     "name": "stdout",
     "output_type": "stream",
     "text": [
      "计算结果的type为： <class 'tensorflow.python.framework.ops.EagerTensor'>\n",
      "result:  0.75\n"
     ]
    }
   ],
   "source": [
    "# 计算步骤为：y_pred = y_pred[y_pred > threshold]，然后np.mean(np.equal(y_pred, y_true))，注意运算时数据类型须一致！\n",
    "y_true = np.array([1, 1, 0, 0])\n",
    "y_pred = np.array([0.98, 1, 0, 0.6])               \n",
    "acc = tf.keras.metrics.binary_accuracy(y_true, y_pred)\n",
    "print(\"计算结果的type为：\",type(acc))\n",
    "print('result: ', acc.numpy())     "
   ]
  },
  {
   "cell_type": "markdown",
   "metadata": {},
   "source": [
    "+ **4. tf.keras.metrics.CategoricalAccuracy是一个类，用于计算多分类任务的准确率**  \n",
    "同名为：tf.metrics.CategoricalAccuracy\n",
    "-param:y_true：样本标签经过one_hot编码后的值  \n",
    "-param:y_pred：是概率值 "
   ]
  },
  {
   "cell_type": "code",
   "execution_count": 5,
   "metadata": {},
   "outputs": [
    {
     "name": "stdout",
     "output_type": "stream",
     "text": [
      "Final result:  0.5\n"
     ]
    }
   ],
   "source": [
    "m = tf.keras.metrics.CategoricalAccuracy()\n",
    "m.update_state([[0, 0, 1], [0, 1, 0]], [[0.1, 0.9, 0.8], [0.05, 0.95, 0]])\n",
    "print('Final result: ', m.result().numpy()) "
   ]
  },
  {
   "cell_type": "markdown",
   "metadata": {},
   "source": [
    "+ **5. tf.keras.metrics.categorical_accuracy是一个函数，用于计算多分类任务的准确率**  \n",
    "同名为：tf.metrics.categorical_accuracy\n",
    "-param:y_true：样本标签经过one_hot编码后的值  \n",
    "-param:y_pred：是概率值 \n",
    "-return：返回值是每个样本的分类结果"
   ]
  },
  {
   "cell_type": "code",
   "execution_count": 6,
   "metadata": {},
   "outputs": [
    {
     "name": "stdout",
     "output_type": "stream",
     "text": [
      "result： [0. 1. 1.]\n",
      "accuracy: 0.6666667\n"
     ]
    }
   ],
   "source": [
    "y_true = np.array([[0, 0, 1], [0, 1, 0],[1, 0, 0]])\n",
    "y_pred = np.array([[0.1, 0.9, 0.8], [0.05, 0.95, 0], [0.7, 0.4, 0.5]]) \n",
    "acc = tf.keras.metrics.categorical_accuracy(y_true, y_pred)\n",
    "print(\"result：\", acc.numpy())\n",
    "print(\"accuracy:\", np.mean(acc.numpy()))"
   ]
  },
  {
   "cell_type": "markdown",
   "metadata": {},
   "source": [
    "+ **6. tf.keras.metrics.SparseCategoricalAccuracy是一个类，用于计算多分类任务的准确率**  \n",
    "同名为：tf.metrics.SparseCategoricalAccuracy  \n",
    "-param:y_true：样本标签值，shape = (batch_size, 1)  \n",
    "-param:y_pred：是概率值   "
   ]
  },
  {
   "cell_type": "code",
   "execution_count": 7,
   "metadata": {},
   "outputs": [
    {
     "name": "stdout",
     "output_type": "stream",
     "text": [
      "Final result:  0.5\n"
     ]
    }
   ],
   "source": [
    "m = tf.keras.metrics.SparseCategoricalAccuracy()\n",
    "m.update_state([[2], [1]], [[0.1, 0.9, 0.8], [0.05, 0.95, 0]])\n",
    "print('Final result: ', m.result().numpy())"
   ]
  },
  {
   "cell_type": "markdown",
   "metadata": {},
   "source": [
    "+ **7. tf.keras.metrics.sparse_categorical_accuracy是一个函数，用于计算多分类任务的准确率**  \n",
    "同名为：tf.metrics.sparse_categorical_accuracy\n",
    "-param:y_true：样本标签值，shape = (batch_size, 1)  \n",
    "-param:y_pred：是概率值   "
   ]
  },
  {
   "cell_type": "code",
   "execution_count": 8,
   "metadata": {},
   "outputs": [
    {
     "name": "stdout",
     "output_type": "stream",
     "text": [
      "result： [0. 1. 1.]\n",
      "accuracy: 0.6666667\n"
     ]
    }
   ],
   "source": [
    "y_true = np.array([[0], [1], [2]])                                          \n",
    "y_pred = np.array([[0.1, 0.9, 0.8], [0.05, 0.95, 0], [0.5, 0.4, 0.7]]) \n",
    "acc = tf.keras.metrics.sparse_categorical_accuracy(y_true, y_pred)\n",
    "print(\"result：\", acc.numpy())\n",
    "print(\"accuracy:\", np.mean(acc.numpy()))"
   ]
  },
  {
   "cell_type": "markdown",
   "metadata": {},
   "source": [
    "+ **8. tf.keras.metrics.SparseTopKCategoricalAccuracy是一个类，用于计算多分类任务的前K个分类结果的准确率**  \n",
    "同名为：tf.metrics.SparseTopKCategoricalAccuracy\n",
    "-param:y_true：样本标签值，shape = (batch_size, 1)  \n",
    "-param:y_pred：是概率值   "
   ]
  },
  {
   "cell_type": "code",
   "execution_count": 9,
   "metadata": {},
   "outputs": [
    {
     "name": "stdout",
     "output_type": "stream",
     "text": [
      "Final result:  1.0\n"
     ]
    }
   ],
   "source": [
    "# 构造对象时，默认k=5\n",
    "m = tf.keras.metrics.SparseTopKCategoricalAccuracy()\n",
    "m.update_state([2, 1], [[0.1, 0.9, 0.8], [0.05, 0.95, 0]])\n",
    "print('Final result: ', m.result().numpy())"
   ]
  },
  {
   "cell_type": "markdown",
   "metadata": {},
   "source": [
    "+ **9. tf.keras.metrics.sparse_top_k_categorical_accuracy是一个函数，用于计算多分类任务的前K个分类结果的准确率**  \n",
    "同名为：tf.metrics.sparse_top_k_categorical_accuracy\n",
    "-param:y_true：样本标签值，shape = (batch_size, 1)  \n",
    "-param:y_pred：是概率值   "
   ]
  },
  {
   "cell_type": "code",
   "execution_count": 10,
   "metadata": {},
   "outputs": [
    {
     "name": "stdout",
     "output_type": "stream",
     "text": [
      "result： [1. 1. 1.]\n",
      "accuracy: 1.0\n"
     ]
    }
   ],
   "source": [
    "y_true = np.array([2, 1, 1])\n",
    "y_pred = np.array([[0.1, 0.9, 0.8], [0.05, 0.95, 0], [0.4, 0.3, 0.5]])\n",
    "acc = tf.keras.metrics.sparse_top_k_categorical_accuracy(y_true, y_pred)\n",
    "print(\"result：\", acc.numpy())\n",
    "print(\"accuracy:\", np.mean(acc.numpy()))"
   ]
  },
  {
   "cell_type": "code",
   "execution_count": null,
   "metadata": {},
   "outputs": [],
   "source": []
  }
 ],
 "metadata": {
  "kernelspec": {
   "display_name": "Python 3",
   "language": "python",
   "name": "python3"
  },
  "language_info": {
   "codemirror_mode": {
    "name": "ipython",
    "version": 3
   },
   "file_extension": ".py",
   "mimetype": "text/x-python",
   "name": "python",
   "nbconvert_exporter": "python",
   "pygments_lexer": "ipython3",
   "version": "3.6.9"
  }
 },
 "nbformat": 4,
 "nbformat_minor": 2
}
