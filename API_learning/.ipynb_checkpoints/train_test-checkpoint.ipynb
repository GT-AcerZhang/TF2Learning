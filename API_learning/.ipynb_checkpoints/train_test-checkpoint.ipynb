{
 "cells": [
  {
   "cell_type": "markdown",
   "metadata": {},
   "source": [
    "### 训练期间的loss和accuracy是怎么计算的？计算的是当前batch的还是整个epoch的？\n",
    "\n",
    "训练期间用tf.losses, tf.keras.losses. tf.nn都可以  \n",
    "计算的是当前这个batch的loss"
   ]
  },
  {
   "cell_type": "code",
   "execution_count": null,
   "metadata": {},
   "outputs": [],
   "source": []
  },
  {
   "cell_type": "markdown",
   "metadata": {},
   "source": [
    "### 测试期间的loss和accuracy是怎么计算的？计算的是当前batch的还是整个epoch的？ \n",
    "测试期间用的是tf.metrics, tf.keras.metrics都可以计算，  \n",
    "计算内容可以使accuracy或者loss，  \n",
    "可以是当前batch的，也可以是整个训练期间的平均。  "
   ]
  },
  {
   "cell_type": "code",
   "execution_count": null,
   "metadata": {},
   "outputs": [],
   "source": []
  },
  {
   "cell_type": "code",
   "execution_count": null,
   "metadata": {},
   "outputs": [],
   "source": []
  }
 ],
 "metadata": {
  "kernelspec": {
   "display_name": "Python 3",
   "language": "python",
   "name": "python3"
  },
  "language_info": {
   "codemirror_mode": {
    "name": "ipython",
    "version": 3
   },
   "file_extension": ".py",
   "mimetype": "text/x-python",
   "name": "python",
   "nbconvert_exporter": "python",
   "pygments_lexer": "ipython3",
   "version": "3.6.9"
  }
 },
 "nbformat": 4,
 "nbformat_minor": 2
}
